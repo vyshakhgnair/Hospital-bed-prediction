{
 "cells": [
  {
   "cell_type": "code",
   "execution_count": 8,
   "metadata": {},
   "outputs": [],
   "source": [
    "import numpy as np\n",
    "import pandas as pd\n",
    "from sklearn.ensemble import RandomForestRegressor\n",
    "\n"
   ]
  },
  {
   "cell_type": "code",
   "execution_count": 9,
   "metadata": {},
   "outputs": [
    {
     "data": {
      "text/html": [
       "<div>\n",
       "<style scoped>\n",
       "    .dataframe tbody tr th:only-of-type {\n",
       "        vertical-align: middle;\n",
       "    }\n",
       "\n",
       "    .dataframe tbody tr th {\n",
       "        vertical-align: top;\n",
       "    }\n",
       "\n",
       "    .dataframe thead th {\n",
       "        text-align: right;\n",
       "    }\n",
       "</style>\n",
       "<table border=\"1\" class=\"dataframe\">\n",
       "  <thead>\n",
       "    <tr style=\"text-align: right;\">\n",
       "      <th></th>\n",
       "      <th>Month</th>\n",
       "      <th>bed_count</th>\n",
       "      <th>icu_count</th>\n",
       "      <th>oxygen_count</th>\n",
       "    </tr>\n",
       "  </thead>\n",
       "  <tbody>\n",
       "    <tr>\n",
       "      <th>count</th>\n",
       "      <td>1000.000000</td>\n",
       "      <td>1000.000000</td>\n",
       "      <td>1000.000000</td>\n",
       "      <td>1000.0000</td>\n",
       "    </tr>\n",
       "    <tr>\n",
       "      <th>mean</th>\n",
       "      <td>6.646000</td>\n",
       "      <td>6545.497000</td>\n",
       "      <td>551.675000</td>\n",
       "      <td>395.5690</td>\n",
       "    </tr>\n",
       "    <tr>\n",
       "      <th>std</th>\n",
       "      <td>3.482357</td>\n",
       "      <td>869.177912</td>\n",
       "      <td>259.136093</td>\n",
       "      <td>58.8861</td>\n",
       "    </tr>\n",
       "    <tr>\n",
       "      <th>min</th>\n",
       "      <td>1.000000</td>\n",
       "      <td>5003.000000</td>\n",
       "      <td>100.000000</td>\n",
       "      <td>300.0000</td>\n",
       "    </tr>\n",
       "    <tr>\n",
       "      <th>25%</th>\n",
       "      <td>4.000000</td>\n",
       "      <td>5796.750000</td>\n",
       "      <td>327.750000</td>\n",
       "      <td>343.0000</td>\n",
       "    </tr>\n",
       "    <tr>\n",
       "      <th>50%</th>\n",
       "      <td>7.000000</td>\n",
       "      <td>6572.500000</td>\n",
       "      <td>537.500000</td>\n",
       "      <td>395.0000</td>\n",
       "    </tr>\n",
       "    <tr>\n",
       "      <th>75%</th>\n",
       "      <td>10.000000</td>\n",
       "      <td>7329.250000</td>\n",
       "      <td>774.500000</td>\n",
       "      <td>448.0000</td>\n",
       "    </tr>\n",
       "    <tr>\n",
       "      <th>max</th>\n",
       "      <td>12.000000</td>\n",
       "      <td>7995.000000</td>\n",
       "      <td>1000.000000</td>\n",
       "      <td>500.0000</td>\n",
       "    </tr>\n",
       "  </tbody>\n",
       "</table>\n",
       "</div>"
      ],
      "text/plain": [
       "             Month    bed_count    icu_count  oxygen_count\n",
       "count  1000.000000  1000.000000  1000.000000     1000.0000\n",
       "mean      6.646000  6545.497000   551.675000      395.5690\n",
       "std       3.482357   869.177912   259.136093       58.8861\n",
       "min       1.000000  5003.000000   100.000000      300.0000\n",
       "25%       4.000000  5796.750000   327.750000      343.0000\n",
       "50%       7.000000  6572.500000   537.500000      395.0000\n",
       "75%      10.000000  7329.250000   774.500000      448.0000\n",
       "max      12.000000  7995.000000  1000.000000      500.0000"
      ]
     },
     "execution_count": 9,
     "metadata": {},
     "output_type": "execute_result"
    }
   ],
   "source": [
    "train_data = pd.read_csv(\"/home/vyshakhgnair/Desktop/unni/fossera/geek-gig/train.csv\")\n",
    "test_data  = pd.read_csv(\"/home/vyshakhgnair/Desktop/unni/fossera/geek-gig/train.csv\")\n",
    "train_data.describe()\n",
    "\n"
   ]
  },
  {
   "cell_type": "code",
   "execution_count": 10,
   "metadata": {},
   "outputs": [
    {
     "name": "stdout",
     "output_type": "stream",
     "text": [
      "Index(['Month', 'bed_count'], dtype='object')\n",
      "     Month  bed_count\n",
      "0        6       7550\n",
      "1        9       7484\n",
      "2        6       7796\n",
      "3        4       6963\n",
      "4       11       5021\n",
      "..     ...        ...\n",
      "995      2       7340\n",
      "996      5       6718\n",
      "997     11       7511\n",
      "998      9       7356\n",
      "999      9       6489\n",
      "\n",
      "[1000 rows x 2 columns]\n"
     ]
    }
   ],
   "source": [
    "\n",
    "train_y = train_data.bed_count\n",
    "inputCols = train_data.columns[0:2]\n",
    "print(inputCols)\n",
    "train_X = train_data[inputCols]\n",
    "print(train_X)\n",
    "test_X = test_data[inputCols]\n",
    "\n",
    "rf_model_1 = RandomForestRegressor(random_state=1)\n",
    "rf_model_1.fit(train_X,train_y)\n",
    "\n",
    "result_1 = rf_model_1.predict(test_X)\n",
    "\n"
   ]
  },
  {
   "cell_type": "code",
   "execution_count": 11,
   "metadata": {},
   "outputs": [],
   "source": [
    "\n",
    "train_y = train_data.icu_count\n",
    "inputCols = ['Month','icu_count']\n",
    "train_X = train_data[inputCols]\n",
    "test_X = test_data[inputCols]\n",
    "\n",
    "rf_model_2 = RandomForestRegressor(random_state=1)\n",
    "rf_model_2.fit(train_X,train_y)\n",
    "\n",
    "result_2 = rf_model_2.predict(test_X)\n"
   ]
  },
  {
   "cell_type": "code",
   "execution_count": 12,
   "metadata": {},
   "outputs": [],
   "source": [
    "\n",
    "train_y = train_data.oxygen_count\n",
    "inputCols = ['Month','oxygen_count']\n",
    "train_X = train_data[inputCols]\n",
    "test_X = test_data[inputCols]\n",
    "\n",
    "rf_model_3 = RandomForestRegressor(random_state=1)\n",
    "rf_model_3.fit(train_X,train_y)\n",
    "\n",
    "result_3 = rf_model_3.predict(test_X)\n",
    "print(result_3)\n"
   ]
  },
  {
   "cell_type": "code",
   "execution_count": 14,
   "metadata": {},
   "outputs": [
    {
     "ename": "TypeError",
     "evalue": "type numpy.ndarray doesn't define __round__ method",
     "output_type": "error",
     "traceback": [
      "\u001b[0;31m---------------------------------------------------------------------------\u001b[0m",
      "\u001b[0;31mTypeError\u001b[0m                                 Traceback (most recent call last)",
      "\u001b[0;32m/tmp/ipykernel_5044/604523139.py\u001b[0m in \u001b[0;36m<module>\u001b[0;34m\u001b[0m\n\u001b[1;32m      1\u001b[0m \u001b[0mpredictions\u001b[0m \u001b[0;34m=\u001b[0m \u001b[0mpd\u001b[0m\u001b[0;34m.\u001b[0m\u001b[0mDataFrame\u001b[0m\u001b[0;34m(\u001b[0m\u001b[0;34m)\u001b[0m\u001b[0;34m\u001b[0m\u001b[0;34m\u001b[0m\u001b[0m\n\u001b[1;32m      2\u001b[0m \u001b[0mpredictions\u001b[0m\u001b[0;34m[\u001b[0m\u001b[0;34m\"Month\"\u001b[0m\u001b[0;34m]\u001b[0m \u001b[0;34m=\u001b[0m \u001b[0mtest_data\u001b[0m\u001b[0;34m[\u001b[0m\u001b[0;34m\"Month\"\u001b[0m\u001b[0;34m]\u001b[0m\u001b[0;34m\u001b[0m\u001b[0;34m\u001b[0m\u001b[0m\n\u001b[0;32m----> 3\u001b[0;31m \u001b[0mpredictions\u001b[0m\u001b[0;34m[\u001b[0m\u001b[0;34m\"bed_count\"\u001b[0m\u001b[0;34m]\u001b[0m\u001b[0;34m=\u001b[0m\u001b[0mround\u001b[0m\u001b[0;34m(\u001b[0m\u001b[0mresult_1\u001b[0m\u001b[0;34m)\u001b[0m\u001b[0;34m\u001b[0m\u001b[0;34m\u001b[0m\u001b[0m\n\u001b[0m\u001b[1;32m      4\u001b[0m \u001b[0mpredictions\u001b[0m\u001b[0;34m[\u001b[0m\u001b[0;34m\"icu_count\"\u001b[0m\u001b[0;34m]\u001b[0m\u001b[0;34m=\u001b[0m\u001b[0mresult_2\u001b[0m\u001b[0;34m\u001b[0m\u001b[0;34m\u001b[0m\u001b[0m\n\u001b[1;32m      5\u001b[0m \u001b[0mpredictions\u001b[0m\u001b[0;34m[\u001b[0m\u001b[0;34m\"oxygen_count\"\u001b[0m\u001b[0;34m]\u001b[0m\u001b[0;34m=\u001b[0m\u001b[0mresult_3\u001b[0m\u001b[0;34m\u001b[0m\u001b[0;34m\u001b[0m\u001b[0m\n",
      "\u001b[0;31mTypeError\u001b[0m: type numpy.ndarray doesn't define __round__ method"
     ]
    }
   ],
   "source": [
    "predictions = pd.DataFrame()\n",
    "predictions[\"Month\"] = test_data[\"Month\"]\n",
    "predictions[\"bed_count\"]=result_1\n",
    "predictions[\"icu_count\"]=result_2\n",
    "predictions[\"oxygen_count\"]=result_3\n",
    "predictions.to_csv('prediction.csv', index=False, header=predictions.columns)\n",
    "predictions.head()"
   ]
  }
 ],
 "metadata": {
  "interpreter": {
   "hash": "916dbcbb3f70747c44a77c7bcd40155683ae19c65e1c03b4aa3499c5328201f1"
  },
  "kernelspec": {
   "display_name": "Python 3.8.10 64-bit",
   "name": "python3"
  },
  "language_info": {
   "codemirror_mode": {
    "name": "ipython",
    "version": 3
   },
   "file_extension": ".py",
   "mimetype": "text/x-python",
   "name": "python",
   "nbconvert_exporter": "python",
   "pygments_lexer": "ipython3",
   "version": "3.8.10"
  },
  "orig_nbformat": 4
 },
 "nbformat": 4,
 "nbformat_minor": 2
}
