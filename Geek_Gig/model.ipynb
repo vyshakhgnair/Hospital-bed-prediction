{
 "cells": [
  {
   "cell_type": "code",
   "execution_count": 10,
   "metadata": {},
   "outputs": [],
   "source": [
    "import numpy as np\n",
    "import pandas as pd\n",
    "from sklearn.ensemble import RandomForestRegressor\n",
    "from sklearn.metrics import mean_absolute_error\n",
    "\n"
   ]
  },
  {
   "cell_type": "code",
   "execution_count": 11,
   "metadata": {},
   "outputs": [
    {
     "data": {
      "text/html": [
       "<div>\n",
       "<style scoped>\n",
       "    .dataframe tbody tr th:only-of-type {\n",
       "        vertical-align: middle;\n",
       "    }\n",
       "\n",
       "    .dataframe tbody tr th {\n",
       "        vertical-align: top;\n",
       "    }\n",
       "\n",
       "    .dataframe thead th {\n",
       "        text-align: right;\n",
       "    }\n",
       "</style>\n",
       "<table border=\"1\" class=\"dataframe\">\n",
       "  <thead>\n",
       "    <tr style=\"text-align: right;\">\n",
       "      <th></th>\n",
       "      <th>Month</th>\n",
       "      <th>bed_count</th>\n",
       "      <th>icu_count</th>\n",
       "      <th>oxygen_count</th>\n",
       "    </tr>\n",
       "  </thead>\n",
       "  <tbody>\n",
       "    <tr>\n",
       "      <th>count</th>\n",
       "      <td>1000.000000</td>\n",
       "      <td>1000.000000</td>\n",
       "      <td>1000.000000</td>\n",
       "      <td>1000.0000</td>\n",
       "    </tr>\n",
       "    <tr>\n",
       "      <th>mean</th>\n",
       "      <td>6.646000</td>\n",
       "      <td>6545.497000</td>\n",
       "      <td>551.675000</td>\n",
       "      <td>395.5690</td>\n",
       "    </tr>\n",
       "    <tr>\n",
       "      <th>std</th>\n",
       "      <td>3.482357</td>\n",
       "      <td>869.177912</td>\n",
       "      <td>259.136093</td>\n",
       "      <td>58.8861</td>\n",
       "    </tr>\n",
       "    <tr>\n",
       "      <th>min</th>\n",
       "      <td>1.000000</td>\n",
       "      <td>5003.000000</td>\n",
       "      <td>100.000000</td>\n",
       "      <td>300.0000</td>\n",
       "    </tr>\n",
       "    <tr>\n",
       "      <th>25%</th>\n",
       "      <td>4.000000</td>\n",
       "      <td>5796.750000</td>\n",
       "      <td>327.750000</td>\n",
       "      <td>343.0000</td>\n",
       "    </tr>\n",
       "    <tr>\n",
       "      <th>50%</th>\n",
       "      <td>7.000000</td>\n",
       "      <td>6572.500000</td>\n",
       "      <td>537.500000</td>\n",
       "      <td>395.0000</td>\n",
       "    </tr>\n",
       "    <tr>\n",
       "      <th>75%</th>\n",
       "      <td>10.000000</td>\n",
       "      <td>7329.250000</td>\n",
       "      <td>774.500000</td>\n",
       "      <td>448.0000</td>\n",
       "    </tr>\n",
       "    <tr>\n",
       "      <th>max</th>\n",
       "      <td>12.000000</td>\n",
       "      <td>7995.000000</td>\n",
       "      <td>1000.000000</td>\n",
       "      <td>500.0000</td>\n",
       "    </tr>\n",
       "  </tbody>\n",
       "</table>\n",
       "</div>"
      ],
      "text/plain": [
       "             Month    bed_count    icu_count  oxygen_count\n",
       "count  1000.000000  1000.000000  1000.000000     1000.0000\n",
       "mean      6.646000  6545.497000   551.675000      395.5690\n",
       "std       3.482357   869.177912   259.136093       58.8861\n",
       "min       1.000000  5003.000000   100.000000      300.0000\n",
       "25%       4.000000  5796.750000   327.750000      343.0000\n",
       "50%       7.000000  6572.500000   537.500000      395.0000\n",
       "75%      10.000000  7329.250000   774.500000      448.0000\n",
       "max      12.000000  7995.000000  1000.000000      500.0000"
      ]
     },
     "execution_count": 11,
     "metadata": {},
     "output_type": "execute_result"
    }
   ],
   "source": [
    "train_data = pd.read_csv(\"train.csv\")\n",
    "test_data  = pd.read_csv(\"test.csv\")\n",
    "error_data =pd.read_csv(\"error.csv\")\n",
    "train_data.describe()\n",
    "\n"
   ]
  },
  {
   "cell_type": "code",
   "execution_count": 12,
   "metadata": {},
   "outputs": [],
   "source": [
    "\n",
    "train_y = train_data.bed_count\n",
    "inputCols = train_data.columns[0:2]\n",
    "train_X = train_data[inputCols]\n",
    "test_X = test_data[inputCols]\n",
    "        \n",
    "rf_model_1 = RandomForestRegressor(n_estimators=2000,random_state=1)\n",
    "rf_model_1.fit(train_X,train_y)\n",
    "\n",
    "result_1 = rf_model_1.predict(test_X)\n",
    "\n"
   ]
  },
  {
   "cell_type": "code",
   "execution_count": 13,
   "metadata": {},
   "outputs": [],
   "source": [
    "\n",
    "train_y = train_data.icu_count\n",
    "inputCols = ['Month','icu_count']\n",
    "train_X = train_data[inputCols]\n",
    "test_X = test_data[inputCols]\n",
    "\n",
    "rf_model_2 = RandomForestRegressor(n_estimators=2000,random_state=1)\n",
    "rf_model_2.fit(train_X,train_y)\n",
    "\n",
    "result_2 = rf_model_2.predict(test_X)\n"
   ]
  },
  {
   "cell_type": "code",
   "execution_count": 14,
   "metadata": {},
   "outputs": [],
   "source": [
    "\n",
    "train_y = train_data.oxygen_count\n",
    "inputCols = ['Month','oxygen_count']\n",
    "train_X = train_data[inputCols]\n",
    "test_X = test_data[inputCols]\n",
    "\n",
    "rf_model_3 = RandomForestRegressor(n_estimators=2000,random_state=1)\n",
    "rf_model_3.fit(train_X,train_y)\n",
    "\n",
    "result_3 = rf_model_3.predict(test_X)\n"
   ]
  },
  {
   "cell_type": "code",
   "execution_count": 15,
   "metadata": {},
   "outputs": [
    {
     "name": "stdout",
     "output_type": "stream",
     "text": [
      "MAE for result_1 1002.615652\n"
     ]
    }
   ],
   "source": [
    "valid=error_data['bed_count']\n",
    "\n",
    "print(\"MAE for result_1\",mean_absolute_error(valid,result_1))"
   ]
  },
  {
   "cell_type": "code",
   "execution_count": 16,
   "metadata": {},
   "outputs": [
    {
     "name": "stdout",
     "output_type": "stream",
     "text": [
      "MAE for result_1 301.695772\n"
     ]
    }
   ],
   "source": [
    "valid=error_data['icu_count']\n",
    "\n",
    "print(\"MAE for result_1\",mean_absolute_error(valid,result_2))"
   ]
  },
  {
   "cell_type": "code",
   "execution_count": 17,
   "metadata": {},
   "outputs": [
    {
     "name": "stdout",
     "output_type": "stream",
     "text": [
      "MAE for result_1 67.947553\n"
     ]
    }
   ],
   "source": [
    "valid=error_data['oxygen_count']\n",
    "\n",
    "print(\"MAE for result_1\",mean_absolute_error(valid,result_3))"
   ]
  },
  {
   "cell_type": "code",
   "execution_count": 18,
   "metadata": {},
   "outputs": [
    {
     "data": {
      "text/html": [
       "<div>\n",
       "<style scoped>\n",
       "    .dataframe tbody tr th:only-of-type {\n",
       "        vertical-align: middle;\n",
       "    }\n",
       "\n",
       "    .dataframe tbody tr th {\n",
       "        vertical-align: top;\n",
       "    }\n",
       "\n",
       "    .dataframe thead th {\n",
       "        text-align: right;\n",
       "    }\n",
       "</style>\n",
       "<table border=\"1\" class=\"dataframe\">\n",
       "  <thead>\n",
       "    <tr style=\"text-align: right;\">\n",
       "      <th></th>\n",
       "      <th>Month</th>\n",
       "      <th>bed_count</th>\n",
       "      <th>icu_count</th>\n",
       "      <th>oxygen_count</th>\n",
       "    </tr>\n",
       "  </thead>\n",
       "  <tbody>\n",
       "    <tr>\n",
       "      <th>0</th>\n",
       "      <td>8</td>\n",
       "      <td>7106.1715</td>\n",
       "      <td>669.8610</td>\n",
       "      <td>301.9980</td>\n",
       "    </tr>\n",
       "    <tr>\n",
       "      <th>1</th>\n",
       "      <td>10</td>\n",
       "      <td>6067.8745</td>\n",
       "      <td>106.9665</td>\n",
       "      <td>478.9755</td>\n",
       "    </tr>\n",
       "    <tr>\n",
       "      <th>2</th>\n",
       "      <td>7</td>\n",
       "      <td>7917.2675</td>\n",
       "      <td>648.2265</td>\n",
       "      <td>467.9940</td>\n",
       "    </tr>\n",
       "    <tr>\n",
       "      <th>3</th>\n",
       "      <td>8</td>\n",
       "      <td>7879.2315</td>\n",
       "      <td>967.6315</td>\n",
       "      <td>338.9730</td>\n",
       "    </tr>\n",
       "    <tr>\n",
       "      <th>4</th>\n",
       "      <td>1</td>\n",
       "      <td>6724.8215</td>\n",
       "      <td>811.7765</td>\n",
       "      <td>318.9975</td>\n",
       "    </tr>\n",
       "  </tbody>\n",
       "</table>\n",
       "</div>"
      ],
      "text/plain": [
       "   Month  bed_count  icu_count  oxygen_count\n",
       "0      8  7106.1715   669.8610      301.9980\n",
       "1     10  6067.8745   106.9665      478.9755\n",
       "2      7  7917.2675   648.2265      467.9940\n",
       "3      8  7879.2315   967.6315      338.9730\n",
       "4      1  6724.8215   811.7765      318.9975"
      ]
     },
     "execution_count": 18,
     "metadata": {},
     "output_type": "execute_result"
    }
   ],
   "source": [
    "predictions = pd.DataFrame()\n",
    "predictions[\"Month\"] = test_data[\"Month\"]\n",
    "predictions[\"bed_count\"]=result_1\n",
    "predictions[\"icu_count\"]=result_2\n",
    "predictions[\"oxygen_count\"]=result_3\n",
    "predictions.to_csv('prediction.csv', index=False, header=predictions.columns)\n",
    "predictions.head()"
   ]
  }
 ],
 "metadata": {
  "interpreter": {
   "hash": "916dbcbb3f70747c44a77c7bcd40155683ae19c65e1c03b4aa3499c5328201f1"
  },
  "kernelspec": {
   "display_name": "Python 3.8.10 64-bit",
   "name": "python3"
  },
  "language_info": {
   "codemirror_mode": {
    "name": "ipython",
    "version": 3
   },
   "file_extension": ".py",
   "mimetype": "text/x-python",
   "name": "python",
   "nbconvert_exporter": "python",
   "pygments_lexer": "ipython3",
   "version": "3.8.10"
  },
  "orig_nbformat": 4
 },
 "nbformat": 4,
 "nbformat_minor": 2
}
