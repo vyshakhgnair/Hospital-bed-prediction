{
 "cells": [
  {
   "cell_type": "code",
   "execution_count": 1,
   "metadata": {},
   "outputs": [],
   "source": [
    "import pandas as pd"
   ]
  },
  {
   "cell_type": "code",
   "execution_count": 2,
   "metadata": {},
   "outputs": [
    {
     "name": "stdout",
     "output_type": "stream",
     "text": [
      "     Month  bed_count  icu_count  oxygen_count\n",
      "0        8  7106.1715   669.8610      301.9980\n",
      "1       10  6067.8745   106.9665      478.9755\n",
      "2        7  7917.2675   648.2265      467.9940\n",
      "3        8  7879.2315   967.6315      338.9730\n",
      "4        1  6724.8215   811.7765      318.9975\n",
      "..     ...        ...        ...           ...\n",
      "995     10  7845.6620   878.7550      306.9965\n",
      "996      9  7517.3695   153.9540      358.9860\n",
      "997      4  6360.1755   962.9710      436.8680\n",
      "998      3  6753.5000   748.3200      341.9990\n",
      "999      9  5215.5785   733.0225      360.9890\n",
      "\n",
      "[1000 rows x 4 columns]\n"
     ]
    }
   ],
   "source": [
    "data=pd.read_csv(\"prediction.csv\")\n",
    "df=pd.DataFrame(data)\n",
    "#data.describe()\n",
    "print(df)"
   ]
  },
  {
   "cell_type": "code",
   "execution_count": 3,
   "metadata": {},
   "outputs": [
    {
     "name": "stdout",
     "output_type": "stream",
     "text": [
      "6558 524 398\n"
     ]
    }
   ],
   "source": [
    "row_list=[]\n",
    "mean_bed=0\n",
    "mean_icu=0\n",
    "mean_oxygen=0\n",
    "sum_bed=0\n",
    "sum_icu=0\n",
    "sum_oxygen=0\n",
    "count=0\n",
    "for rows in df.itertuples():\n",
    "    my_list=[rows.Month,rows.bed_count,rows.icu_count,rows.oxygen_count]\n",
    "    row_list.append(my_list)\n",
    "\n",
    "for i in row_list:\n",
    "    if(i[0]==1):\n",
    "        count=count+1\n",
    "        sum_bed=sum_bed+i[1]\n",
    "        sum_icu=sum_icu+i[2]\n",
    "        sum_oxygen=sum_oxygen+i[3]\n",
    "\n",
    "mean_bed=int(sum_bed/count)\n",
    "mean_icu=int(sum_icu/count)\n",
    "mean_oxygen=int(sum_oxygen/count)\n",
    "print(mean_bed,mean_icu,mean_oxygen)    "
   ]
  }
 ],
 "metadata": {
  "interpreter": {
   "hash": "916dbcbb3f70747c44a77c7bcd40155683ae19c65e1c03b4aa3499c5328201f1"
  },
  "kernelspec": {
   "display_name": "Python 3.8.10 64-bit",
   "language": "python",
   "name": "python3"
  },
  "language_info": {
   "codemirror_mode": {
    "name": "ipython",
    "version": 3
   },
   "file_extension": ".py",
   "mimetype": "text/x-python",
   "name": "python",
   "nbconvert_exporter": "python",
   "pygments_lexer": "ipython3",
   "version": "3.8.10"
  },
  "orig_nbformat": 4
 },
 "nbformat": 4,
 "nbformat_minor": 2
}
